{
  "nbformat": 4,
  "nbformat_minor": 0,
  "metadata": {
    "colab": {
      "provenance": []
    },
    "kernelspec": {
      "name": "python3",
      "display_name": "Python 3"
    },
    "language_info": {
      "name": "python"
    }
  },
  "cells": [
    {
      "cell_type": "code",
      "execution_count": 1,
      "metadata": {
        "id": "HYc-UjpC-dXz"
      },
      "outputs": [],
      "source": [
        "#1a\n",
        "\n",
        "def summation_unit(input, weight, bias=0):\n",
        "  if len(input)!=len(weight):\n",
        "    raise ValueError(\"Not matching\")\n",
        "\n",
        "  summ=sum(i*w for i,w in zip(input,weight))+bias\n",
        "  return summ\n",
        "\n",
        "#1b\n",
        "\n",
        "import matplotlib.pyplot as plt\n",
        "\n",
        "# Manual exponential function using Taylor Series approximation\n",
        "def exp_manual(x, terms=20):\n",
        "    result = 1\n",
        "    factorial = 1\n",
        "    power = 1\n",
        "    for i in range(1, terms):\n",
        "        factorial *= i  # Compute factorial\n",
        "        power *= x      # Compute power of x\n",
        "        result += power / factorial\n",
        "    return result\n",
        "\n",
        "# Step Function (Unit Step)\n",
        "def step_function(x):\n",
        "    return 1 if x >= 0 else 0\n",
        "\n",
        "# Bipolar Step Function\n",
        "def bipolar_step_function(x):\n",
        "    return 1 if x >= 0 else -1\n",
        "\n",
        "# Sigmoid Function (using manual exponential)\n",
        "def sigmoid(x):\n",
        "    return 1 / (1 + exp_manual(-x))\n",
        "\n",
        "# TanH Function (using manual exponential)\n",
        "def tanh(x):\n",
        "    e_pos = exp_manual(x)\n",
        "    e_neg = exp_manual(-x)\n",
        "    return (e_pos - e_neg) / (e_pos + e_neg)\n",
        "\n",
        "# ReLU Function\n",
        "def relu(x):\n",
        "    return x if x > 0 else 0\n",
        "\n",
        "# Leaky ReLU Function\n",
        "def leaky_relu(x, alpha=0.01):\n",
        "    return x if x > 0 else alpha * x\n",
        "\n",
        "#1c\n",
        "def comparator_unit(y_true, y_pred, error_type=\"absolute\"):\n",
        "    if error_type == \"absolute\":\n",
        "        return abs(y_true - y_pred)  # Absolute Error\n",
        "\n",
        "    elif error_type == \"squared\":\n",
        "        return (y_true - y_pred) ** 2  # Squared Error\n",
        "\n",
        "    elif error_type == \"difference\":\n",
        "        return y_true - y_pred  # Raw Difference\n",
        "\n",
        "    else:\n",
        "        raise ValueError(\"Invalid error type. Choose 'absolute', 'squared', or 'difference'.\")\n"
      ]
    },
    {
      "cell_type": "code",
      "source": [],
      "metadata": {
        "id": "GufPHljo_InD"
      },
      "execution_count": null,
      "outputs": []
    }
  ]
}