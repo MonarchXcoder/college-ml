{
  "nbformat": 4,
  "nbformat_minor": 0,
  "metadata": {
    "colab": {
      "provenance": []
    },
    "kernelspec": {
      "name": "python3",
      "display_name": "Python 3"
    },
    "language_info": {
      "name": "python"
    }
  },
  "cells": [
    {
      "cell_type": "code",
      "execution_count": null,
      "metadata": {
        "colab": {
          "base_uri": "https://localhost:8080/"
        },
        "id": "Sk0pL8xpZdrd",
        "outputId": "398dca42-09a2-4ff6-b60d-7f5746625212"
      },
      "outputs": [
        {
          "output_type": "stream",
          "name": "stdout",
          "text": [
            "no.of pairs: 2\n"
          ]
        }
      ],
      "source": [
        "#1\n",
        "def pair(arr):\n",
        "  count=0\n",
        "  list=[]\n",
        "  for i in arr:\n",
        "    for j in arr:\n",
        "      if i+j==10:\n",
        "        if i and j not in list:\n",
        "          list.append(i)\n",
        "          list.append(j)\n",
        "          count+=1\n",
        "  print(\"no.of pairs:\",count)\n",
        "\n",
        "#main\n",
        "arr1=[2,7,4,1,3,6]\n",
        "pair(arr1)"
      ]
    },
    {
      "cell_type": "code",
      "source": [
        "#2\n",
        "def ranger(a,arr):\n",
        "  if a<3:\n",
        "    raise Exception(\"Range determination is not possible\")\n",
        "  else:\n",
        "    print(\"Range:\",max(arr)-min(arr))\n",
        "\n",
        "#main\n",
        "arr=[5,3,8,1,0,4]\n",
        "a=len(arr)\n",
        "ranger(a,arr)"
      ],
      "metadata": {
        "colab": {
          "base_uri": "https://localhost:8080/"
        },
        "id": "uSNc9uqfgnmd",
        "outputId": "174ed11c-15f1-475c-91c8-dfb875d599b1"
      },
      "execution_count": null,
      "outputs": [
        {
          "output_type": "stream",
          "name": "stdout",
          "text": [
            "Range: 8\n"
          ]
        }
      ]
    },
    {
      "cell_type": "code",
      "source": [
        "#4\n",
        "def maxi(str):\n",
        "  dic={}\n",
        "  for i in str:\n",
        "    if i not in dic:\n",
        "      dic[i] = 1\n",
        "    else:\n",
        "      dic[i] += 1\n",
        "  max_freq = max(dic.values())\n",
        "  keys = [key for key, val in dic.items() if val == max_freq]\n",
        "  print(keys,\":\",max_freq)\n",
        "\n",
        "#main\n",
        "s = \"hippopotamus\"\n",
        "maxi(s)"
      ],
      "metadata": {
        "colab": {
          "base_uri": "https://localhost:8080/"
        },
        "id": "Yw50oyK9kLsY",
        "outputId": "27c06127-6486-446f-dee3-6ad7e4fb58d0"
      },
      "execution_count": null,
      "outputs": [
        {
          "output_type": "stream",
          "name": "stdout",
          "text": [
            "['p'] : 3\n"
          ]
        }
      ]
    },
    {
      "cell_type": "code",
      "source": [
        "#3\n",
        "def matrix_multi(A, B):\n",
        "    n = len(A)\n",
        "    result = [[0] * n for _ in range(n)]\n",
        "    for i in range(n):\n",
        "        for j in range(n):\n",
        "            for k in range(n):\n",
        "                result[i][j] += A[i][k] * B[k][j]\n",
        "    return result\n",
        "\n",
        "def matpow(A, m):\n",
        "    if m < 0:\n",
        "        raise ValueError(\"The power m must be a positive integer.\")\n",
        "    if len(A) != len(A[0]):\n",
        "        raise ValueError(\"Matrix A must be square (n x n).\")\n",
        "\n",
        "    n = len(A)\n",
        "    result = [[1 if i == j else 0 for j in range(n)] for i in range(n)]\n",
        "\n",
        "    for t in range(m):\n",
        "        result = matrix_multi(result, A)\n",
        "\n",
        "    return result\n",
        "\n",
        "A = [\n",
        "    [1, 2],\n",
        "    [3, 4]\n",
        "]\n",
        "m = 2\n",
        "\n",
        "result = matpow(A, m)\n",
        "print(\"A^m =\", result)"
      ],
      "metadata": {
        "id": "ZQt1zqVjn12K",
        "colab": {
          "base_uri": "https://localhost:8080/"
        },
        "outputId": "e1cd4efe-02fa-442d-dabf-408ee90a9a22"
      },
      "execution_count": 3,
      "outputs": [
        {
          "output_type": "stream",
          "name": "stdout",
          "text": [
            "A^m = [[7, 10], [15, 22]]\n"
          ]
        }
      ]
    }
  ]
}